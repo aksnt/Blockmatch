{
  "cells": [
    {
      "cell_type": "code",
      "execution_count": null,
      "metadata": {
        "id": "EeqfNHc3RkoV"
      },
      "outputs": [],
      "source": [
        "import os\n",
        "import sys\n",
        "import cv2\n",
        "import math\n",
        "\n",
        "path_to_video = './monkey.avi'\n",
        "outputframes = './outputframes/'\n",
        "\n",
        "k = 4 # any random k such that the following is odd\n",
        "grid_block = ((2 * k) + 1) # hence block is odd\n"
      ]
    },
    {
      "cell_type": "markdown",
      "metadata": {},
      "source": [
        "Helper Functions"
      ]
    },
    {
      "cell_type": "code",
      "execution_count": null,
      "metadata": {
        "id": "jsgoHY76RnQi"
      },
      "outputs": [],
      "source": [
        "''' Code from Lab 4 '''\n",
        "def create_dir_if_not_exists(directory):\n",
        "    if not os.path.exists(directory):\n",
        "        os.makedirs(directory)\n",
        "\n",
        "def check_bounds(dimension):\n",
        "    if dimension[0] < 0 or dimension[0] >= dimension[1]: return True"
      ]
    },
    {
      "cell_type": "code",
      "execution_count": null,
      "metadata": {},
      "outputs": [],
      "source": [
        "def arrowdraw(img, x1, y1, x2, y2):\n",
        "    x1 = x1 * grid_block\n",
        "    y1 = y1 * grid_block\n",
        "    radians = math.atan2(x1-x2, y2-y1)\n",
        "    x11 = 0\n",
        "    y11 = 0\n",
        "    x12 = -10\n",
        "    y12 = -10\n",
        "\n",
        "    u11 = 0\n",
        "    v11 = 0\n",
        "    u12 = 10\n",
        "    v12 = -10\n",
        "    \n",
        "    x11_ = x11*math.cos(radians) - y11*math.sin(radians) + x2\n",
        "    y11_ = x11*math.sin(radians) + y11*math.cos(radians) + y2\n",
        "\n",
        "    x12_ = x12 * math.cos(radians) - y12 * math.sin(radians) + x2\n",
        "    y12_ = x12 * math.sin(radians) + y12 * math.cos(radians) + y2\n",
        "    \n",
        "    u11_ = u11 * math.cos(radians) - v11 * math.sin(radians) + x2\n",
        "    v11_ = u11 * math.sin(radians) + v11 * math.cos(radians) + y2\n",
        "\n",
        "    u12_ = u12 * math.cos(radians) - v12 * math.sin(radians) + x2\n",
        "    v12_ = u12 * math.sin(radians) + v12 * math.cos(radians) + y2\n",
        "    img = cv2.arrowedLine(img, (x1, y1), (x2, y2), (255, 255, 255), 2)\n",
        "    img = cv2.arrowedLine(img, (int(x11_), int(y11_)), (int(x12_), int(y12_)), \n",
        "    (255, 255, 255), 2)\n",
        "    img = cv2.arrowedLine(img, (int(u11_), int(v11_)), (int(u12_), int(v12_)), \n",
        "    (255, 255, 255), 2)\n",
        "    \n",
        "    return img"
      ]
    },
    {
      "cell_type": "markdown",
      "metadata": {},
      "source": [
        "1. Blockmatching Algorithm"
      ]
    },
    {
      "cell_type": "code",
      "execution_count": null,
      "metadata": {
        "id": "IZ_MnLU_RyVa"
      },
      "outputs": [],
      "source": [
        "def blockmatch(Fi ,Fj):\n",
        "\n",
        "    ''' Blockmatching Algorithm based on the Assignment specification with influence\n",
        "    from the following sources:\n",
        "\n",
        "    1. Altman, E. A., & Zakharenko, E. I. (2018, July). \n",
        "        A new algorithm of fast SSD calculation for motion estimation. \n",
        "        In Journal of Physics: Conference Series (Vol. 1050, No. 1, p. 012002).\n",
        "        IOP Publishing.\n",
        "\n",
        "    2. Wikipedia: Block-matching Algorithm\n",
        "        https://en.wikipedia.org/wiki/Block-matching_algorithm\n",
        "    \n",
        "    3. Massanes, F., Cadennes, M., & Brankov, J. G. (2011). Compute-unified device \n",
        "        architecture implementation of a block-matching algorithm for multiple \n",
        "        graphical processing unit cards. Journal of electronic imaging, 20(3), 033004.\n",
        "    \n",
        "    4. Mathworks: Block Matching\n",
        "        https://www.mathworks.com/help/vision/ref/blockmatching.html\n",
        "\n",
        "    Args:- \n",
        "        Fi: Current Frame\n",
        "        Fj: Next Frame\n",
        "    '''\n",
        "\n",
        "    # Get our height and width restrained by our grid_block of k=4\n",
        "    Fx = int(frame_height // grid_block)\n",
        "    Fy = int(frame_width // grid_block)\n",
        "    block_radius = int((grid_block - 2)) - 1 \n",
        "\n",
        "    # Random range chosen to reduce noise\n",
        "    Tmin = 140\n",
        "    Tmax = 155\n",
        "    \n",
        "    # For each grid block B(x,y) or source block in current frame\n",
        "    for y1 in range(Fx):\n",
        "        for x1 in range(Fy):\n",
        "\n",
        "            # Store nearest neighbours without duplicates\n",
        "            displacement_vectors = set() \n",
        "\n",
        "            # Exhaustive method, moves search area one pixel at a time (reference 4)\n",
        "            Bi = Fi[ y1 * grid_block: y1 * grid_block + grid_block, \n",
        "                     x1 * grid_block: x1 * grid_block + grid_block,\n",
        "                     :]\n",
        "\n",
        "            # For next block, restrict our displacement_vectors to a regular grid (reference 2/3)\n",
        "            for y2 in range(y1-block_radius,y1+block_radius):\n",
        "                    if check_bounds((y2, Fx)): continue\n",
        "                    for x2 in range(x1-block_radius,x1+block_radius):\n",
        "                        if check_bounds((x2, Fy)): continue\n",
        "\n",
        "                        #Bj = [bx', by', bc']\n",
        "                        Bj = Fj[y2 * grid_block: y2 * grid_block + grid_block, \n",
        "                                x2 * grid_block: x2 * grid_block + grid_block,\n",
        "                                :]\n",
        "                                \n",
        "                        ssd = math.sqrt(((Bi - Bj) ** 2).sum())\n",
        "                        displacement_vectors.add((ssd, x2, y2))\n",
        "\n",
        "\n",
        "            # Choose block with lowest error.\n",
        "            vectors = min(displacement_vectors)\n",
        "            x2 = vectors[1] * grid_block           \n",
        "            y2 = vectors[2] * grid_block           \n",
        "            #Neglect noisy displacmenet vectors whose SSD ∉ (tmin, tmax)\n",
        "            if Tmin < vectors[0] and vectors[0] < Tmax: arrowdraw(Fj, x1, y1, x2, y2)\n",
        "    \n",
        "    cv2.imwrite(outputframes + 'frame%d.tif' %count, Fj)"
      ]
    },
    {
      "cell_type": "markdown",
      "metadata": {},
      "source": [
        "2. Extract Frames from a Video"
      ]
    },
    {
      "cell_type": "code",
      "execution_count": null,
      "metadata": {},
      "outputs": [],
      "source": [
        "frame_save_path = './frames/'"
      ]
    },
    {
      "cell_type": "code",
      "execution_count": null,
      "metadata": {
        "colab": {
          "base_uri": "https://localhost:8080/"
        },
        "id": "fvJmFpnKR7ph",
        "outputId": "7e4c3d58-bb76-4ca6-a1fa-aae5a92e0a5a"
      },
      "outputs": [],
      "source": [
        "cap = cv2.VideoCapture(path_to_video)\n",
        "create_dir_if_not_exists(frame_save_path) # Or you can create it manually\n",
        "\n",
        "if not cap.isOpened():\n",
        "    print('{} not opened'.format(path_to_video))\n",
        "    sys.exit(1)\n",
        "\n",
        "# time_length = int(cap.get(cv2.CAP_PROP_FRAME_COUNT))\n",
        "frame_height = cap.get(cv2.CAP_PROP_FRAME_HEIGHT)\n",
        "frame_width = cap.get(cv2.CAP_PROP_FRAME_WIDTH)\n",
        "frame_counter = 0                                             # FRAME_COUNTER\n",
        "while(1):\n",
        "    return_flag, frame = cap.read()\n",
        "    if not return_flag:\n",
        "        print('Video Reach End')\n",
        "        break\n",
        "    # Main Content - Start\n",
        "    # cv2.imshow('VideoWindowTitle-Quadrangle', frame)\n",
        "    cv2.imwrite(frame_save_path + 'frame%d.tif' % frame_counter, frame)\n",
        "    frame_counter += 1\n",
        "    if cv2.waitKey(30) & 0xff == ord('q'):\n",
        "        break\n",
        "    # Main Content - End\n",
        "cap.release()"
      ]
    },
    {
      "cell_type": "markdown",
      "metadata": {},
      "source": [
        "3. Perform Blockmatching for any number of frames "
      ]
    },
    {
      "cell_type": "code",
      "execution_count": null,
      "metadata": {},
      "outputs": [],
      "source": [
        "path_to_output_video = './monkey_see_monkey_do.mov' # .mov because Mac"
      ]
    },
    {
      "cell_type": "code",
      "execution_count": null,
      "metadata": {
        "colab": {
          "base_uri": "https://localhost:8080/",
          "height": 357
        },
        "id": "mMBrO3s3SAoM",
        "outputId": "e24cb459-2680-4d3e-8514-5992f8e302b0"
      },
      "outputs": [],
      "source": [
        "count = 0\n",
        "create_dir_if_not_exists(outputframes)\n",
        "frames = 500 # Number of frames to match\n",
        "\n",
        "while count < frames:\n",
        "    \n",
        "    frame1 = cv2.imread(frame_save_path + 'frame%d.tif' %count)\n",
        "    frame2 = cv2.imread(frame_save_path + 'frame%d.tif' %(count+1))\n",
        "\n",
        "    if frame1 is None or frame2 is None: break\n",
        "\n",
        "    blockmatch(frame1, frame2)\n",
        "    count += 1\n",
        "\n",
        "if count == frames: print('Finished!. {frames} frames matched successfully!'.format(frames = frames))\n",
        "else: print('Incomplete. Only {count} frames matched'.format(count = count))\n"
      ]
    },
    {
      "cell_type": "markdown",
      "metadata": {},
      "source": [
        "4. Convert the composited frame sequence into video"
      ]
    },
    {
      "cell_type": "code",
      "execution_count": null,
      "metadata": {
        "id": "X88eF3BYRe0Z"
      },
      "outputs": [],
      "source": [
        "out = cv2.VideoWriter(path_to_output_video, cv2.VideoWriter_fourcc('M', 'J', 'P', 'G'), 10, (int(frame_width), int(frame_height)))\n",
        "frame_counter = 0\n",
        "\n",
        "while(1):\n",
        "    img = cv2.imread(outputframes + 'frame%d.tif' % frame_counter)\n",
        "    if img is None:\n",
        "        print('No more frames to be loaded')\n",
        "        break;\n",
        "    out.write(img)\n",
        "    frame_counter += 1\n",
        "out.release()\n",
        "cv2.destroyAllWindows()\n"
      ]
    }
  ],
  "metadata": {
    "colab": {
      "collapsed_sections": [],
      "provenance": []
    },
    "kernelspec": {
      "display_name": "Python 3.9.12 ('base')",
      "language": "python",
      "name": "python3"
    },
    "language_info": {
      "codemirror_mode": {
        "name": "ipython",
        "version": 3
      },
      "file_extension": ".py",
      "mimetype": "text/x-python",
      "name": "python",
      "nbconvert_exporter": "python",
      "pygments_lexer": "ipython3",
      "version": "3.9.12"
    },
    "vscode": {
      "interpreter": {
        "hash": "3447378e0ec53b2779692647763512753804725b923dfa1d0d480f6c3c7d761b"
      }
    }
  },
  "nbformat": 4,
  "nbformat_minor": 0
}
